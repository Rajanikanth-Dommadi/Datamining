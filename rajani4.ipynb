{
 "cells": [
  {
   "cell_type": "code",
   "execution_count": 1,
   "id": "4bf32265-2933-4097-aebf-f66cf5ce4773",
   "metadata": {},
   "outputs": [],
   "source": [
    "# https://scikit-learn.org/stable/user_guide.html                 \n",
    "# Importing required libraries\n",
    "import os\n",
    "import numpy as np\n",
    "from skimage import io, color, exposure, filters\n",
    "from sklearn.decomposition import PCA\n",
    "import pandas as pd\n",
    "from sklearn.cluster import KMeans,BisectingKMeans,SpectralClustering,AgglomerativeClustering,DBSCAN\n",
    "from sklearn.metrics import silhouette_score,fowlkes_mallows_score\n",
    "\n",
    "import warnings \n",
    "warnings.filterwarnings(\"ignore\")"
   ]
  },
  {
   "cell_type": "code",
   "execution_count": 2,
   "id": "29800956-6aff-48bc-b41f-78bf6885d715",
   "metadata": {},
   "outputs": [],
   "source": [
    "crop_folder=r'Cropped'\n"
   ]
  },
  {
   "cell_type": "code",
   "execution_count": 3,
   "id": "943d3ef3-3e8c-4b69-8f28-279ed6a3b4c1",
   "metadata": {},
   "outputs": [],
   "source": [
    "def edge_histogram(selected_images):\n",
    "    ims=[]\n",
    "    dogs=[]\n",
    "    for idx, path in enumerate(selected_images):\n",
    "        img_path = os.path.join(crop_folder,path)\n",
    "        for im in os.listdir(img_path):\n",
    "            src = os.path.join(img_path, im)\n",
    "            img = io.imread(src)\n",
    "            gray_img = color.rgb2gray(img)\n",
    "            dx, dy = filters.sobel_h(gray_img), filters.sobel_v(gray_img)\n",
    "            angle_sobel = np.mod(np.arctan2(dy, dx), np.pi)\n",
    "            hist, bins = exposure.histogram(angle_sobel, nbins=36)\n",
    "            ims.append(hist/np.sum(hist))\n",
    "            dogs.append(idx)\n",
    "    return ims,dogs\n",
    "ims,dogs=edge_histogram(os.listdir(crop_folder))\n"
   ]
  },
  {
   "cell_type": "code",
   "execution_count": 4,
   "id": "386e28c1-dbeb-4e55-b6e1-1766581ec232",
   "metadata": {},
   "outputs": [],
   "source": [
    "ims=np.array(ims)\n",
    "dogs=np.array(dogs)"
   ]
  },
  {
   "cell_type": "code",
   "execution_count": 5,
   "id": "7e344734-8e96-4c30-9e12-87e7689b7e82",
   "metadata": {},
   "outputs": [],
   "source": [
    "model = PCA(2)\n",
    "ims= model.fit_transform(ims)"
   ]
  },
  {
   "cell_type": "code",
   "execution_count": 6,
   "id": "667e8b71-bd08-45b8-8fa6-813f34a771c7",
   "metadata": {},
   "outputs": [],
   "source": [
    "Algorithms=[]\n",
    "fowlkes_score=[]\n",
    "sil_score =[]"
   ]
  },
  {
   "cell_type": "code",
   "execution_count": 7,
   "id": "4cfff593-b66d-4775-be0c-af0c7df41f79",
   "metadata": {},
   "outputs": [],
   "source": [
    "Algorithms=['random','k-means++','bisectingkmeans','Spectralclustering','DBSCAN','singlelink','completelink','averagelink','ward']"
   ]
  },
  {
   "cell_type": "code",
   "execution_count": 8,
   "id": "0e10e146-337f-4602-98cb-bd4a40573329",
   "metadata": {},
   "outputs": [],
   "source": [
    "kmeans = KMeans(n_clusters=4, random_state=42, init=\"random\").fit(ims).labels_\n",
    "fowlkes_score.append(fowlkes_mallows_score(dogs,kmeans))\n",
    "sil_score.append(silhouette_score(ims,kmeans))"
   ]
  },
  {
   "cell_type": "code",
   "execution_count": 9,
   "id": "623111fd-67eb-4573-9c93-f8eba0e57b33",
   "metadata": {},
   "outputs": [],
   "source": [
    "kmeans = KMeans(n_clusters=4, random_state=42, init=\"k-means++\").fit(ims).labels_\n",
    "fowlkes_score.append(fowlkes_mallows_score(dogs,kmeans))\n",
    "sil_score.append(silhouette_score(ims,kmeans))"
   ]
  },
  {
   "cell_type": "code",
   "execution_count": 10,
   "id": "4b1839a9-e092-46be-8694-6854e19058c4",
   "metadata": {},
   "outputs": [],
   "source": [
    "bisecting = BisectingKMeans(n_clusters=4, random_state=42, init=\"random\").fit(ims).labels_\n",
    "fowlkes_score.append(fowlkes_mallows_score(dogs,bisecting))\n",
    "sil_score.append(silhouette_score(ims,bisecting))"
   ]
  },
  {
   "cell_type": "code",
   "execution_count": 11,
   "id": "9ca728c8-9611-4ddb-87d3-d9728e5ba239",
   "metadata": {},
   "outputs": [],
   "source": [
    "spectralclust = SpectralClustering(n_clusters=4, random_state=42).fit(ims).labels_\n",
    "fowlkes_score.append(fowlkes_mallows_score(dogs,spectralclust))\n",
    "sil_score.append(silhouette_score(ims,spectralclust))"
   ]
  },
  {
   "cell_type": "code",
   "execution_count": 12,
   "id": "d22178e3-5292-4c29-9808-6fe21ec03715",
   "metadata": {},
   "outputs": [],
   "source": [
    "dbscan = DBSCAN(eps=0.02, min_samples=3).fit(ims).labels_\n",
    "fowlkes_score.append(fowlkes_mallows_score(dogs,dbscan))\n",
    "sil_score.append(silhouette_score(ims,dbscan))"
   ]
  },
  {
   "cell_type": "code",
   "execution_count": 13,
   "id": "0d0804d2-e2ad-49fb-9d93-eda8e5578967",
   "metadata": {},
   "outputs": [],
   "source": [
    "s_link=AgglomerativeClustering(n_clusters=4, linkage='single').fit(ims).labels_\n",
    "fowlkes_score.append(fowlkes_mallows_score(dogs,s_link))\n",
    "sil_score.append(silhouette_score(ims,s_link))"
   ]
  },
  {
   "cell_type": "code",
   "execution_count": 14,
   "id": "277b9df7-7461-4b63-9b04-6872c8aba896",
   "metadata": {},
   "outputs": [],
   "source": [
    "c_link=AgglomerativeClustering(n_clusters=4, linkage='complete').fit(ims).labels_\n",
    "fowlkes_score.append(fowlkes_mallows_score(dogs,c_link))\n",
    "sil_score.append(silhouette_score(ims,c_link))"
   ]
  },
  {
   "cell_type": "code",
   "execution_count": 15,
   "id": "dc795786-22f5-45eb-b271-614deb716f0f",
   "metadata": {},
   "outputs": [],
   "source": [
    "a_link=AgglomerativeClustering(n_clusters=4, linkage='average').fit(ims).labels_\n",
    "fowlkes_score.append(fowlkes_mallows_score(dogs,a_link))\n",
    "sil_score.append(silhouette_score(ims,a_link))"
   ]
  },
  {
   "cell_type": "code",
   "execution_count": 16,
   "id": "e0cda4ff-9fe5-4768-b678-e3c29185455f",
   "metadata": {},
   "outputs": [],
   "source": [
    "w_link=AgglomerativeClustering(n_clusters=4, linkage='ward').fit(ims).labels_\n",
    "fowlkes_score.append(fowlkes_mallows_score(dogs,w_link))\n",
    "sil_score.append(silhouette_score(ims,w_link))"
   ]
  },
  {
   "cell_type": "markdown",
   "id": "f3589036-5503-4b6a-80ed-0a51780fc7d6",
   "metadata": {},
   "source": [
    "#### Eps = 0.02  min samples = 3 to get 4 clusters"
   ]
  },
  {
   "cell_type": "code",
   "execution_count": 19,
   "id": "e4c2a4db-193e-48de-9c68-26d185b26ba5",
   "metadata": {},
   "outputs": [],
   "source": [
    "scores_data = pd.DataFrame({ 'Clustering_Algorithms': Algorithms, 'Fowlkes': fowlkes_score, 'Silhouette': sil_score })"
   ]
  },
  {
   "cell_type": "code",
   "execution_count": 20,
   "id": "09020b72-60ac-45b3-a757-c017e2673996",
   "metadata": {},
   "outputs": [
    {
     "data": {
      "text/html": [
       "<div>\n",
       "<style scoped>\n",
       "    .dataframe tbody tr th:only-of-type {\n",
       "        vertical-align: middle;\n",
       "    }\n",
       "\n",
       "    .dataframe tbody tr th {\n",
       "        vertical-align: top;\n",
       "    }\n",
       "\n",
       "    .dataframe thead th {\n",
       "        text-align: right;\n",
       "    }\n",
       "</style>\n",
       "<table border=\"1\" class=\"dataframe\">\n",
       "  <thead>\n",
       "    <tr style=\"text-align: right;\">\n",
       "      <th></th>\n",
       "      <th>Clustering_Algorithms</th>\n",
       "      <th>Fowlkes</th>\n",
       "      <th>Silhouette</th>\n",
       "    </tr>\n",
       "  </thead>\n",
       "  <tbody>\n",
       "    <tr>\n",
       "      <th>5</th>\n",
       "      <td>singlelink</td>\n",
       "      <td>0.492479</td>\n",
       "      <td>0.687195</td>\n",
       "    </tr>\n",
       "    <tr>\n",
       "      <th>7</th>\n",
       "      <td>averagelink</td>\n",
       "      <td>0.491603</td>\n",
       "      <td>0.495271</td>\n",
       "    </tr>\n",
       "    <tr>\n",
       "      <th>4</th>\n",
       "      <td>DBSCAN</td>\n",
       "      <td>0.488825</td>\n",
       "      <td>0.684086</td>\n",
       "    </tr>\n",
       "    <tr>\n",
       "      <th>6</th>\n",
       "      <td>completelink</td>\n",
       "      <td>0.409600</td>\n",
       "      <td>0.437274</td>\n",
       "    </tr>\n",
       "    <tr>\n",
       "      <th>3</th>\n",
       "      <td>Spectralclustering</td>\n",
       "      <td>0.352886</td>\n",
       "      <td>0.097402</td>\n",
       "    </tr>\n",
       "    <tr>\n",
       "      <th>2</th>\n",
       "      <td>bisectingkmeans</td>\n",
       "      <td>0.315862</td>\n",
       "      <td>0.377617</td>\n",
       "    </tr>\n",
       "    <tr>\n",
       "      <th>8</th>\n",
       "      <td>ward</td>\n",
       "      <td>0.312422</td>\n",
       "      <td>0.391462</td>\n",
       "    </tr>\n",
       "    <tr>\n",
       "      <th>0</th>\n",
       "      <td>random</td>\n",
       "      <td>0.308022</td>\n",
       "      <td>0.378779</td>\n",
       "    </tr>\n",
       "    <tr>\n",
       "      <th>1</th>\n",
       "      <td>k-means++</td>\n",
       "      <td>0.308022</td>\n",
       "      <td>0.378779</td>\n",
       "    </tr>\n",
       "  </tbody>\n",
       "</table>\n",
       "</div>"
      ],
      "text/plain": [
       "  Clustering_Algorithms   Fowlkes  Silhouette\n",
       "5            singlelink  0.492479    0.687195\n",
       "7           averagelink  0.491603    0.495271\n",
       "4                DBSCAN  0.488825    0.684086\n",
       "6          completelink  0.409600    0.437274\n",
       "3    Spectralclustering  0.352886    0.097402\n",
       "2       bisectingkmeans  0.315862    0.377617\n",
       "8                  ward  0.312422    0.391462\n",
       "0                random  0.308022    0.378779\n",
       "1             k-means++  0.308022    0.378779"
      ]
     },
     "execution_count": 20,
     "metadata": {},
     "output_type": "execute_result"
    }
   ],
   "source": [
    "## best to worst by fowlkes scores\n",
    "scores_data.sort_values(by='Fowlkes',ascending=False)"
   ]
  },
  {
   "cell_type": "code",
   "execution_count": 21,
   "id": "03974baa-8093-4bd2-b79d-a053087df7a6",
   "metadata": {},
   "outputs": [
    {
     "data": {
      "text/html": [
       "<div>\n",
       "<style scoped>\n",
       "    .dataframe tbody tr th:only-of-type {\n",
       "        vertical-align: middle;\n",
       "    }\n",
       "\n",
       "    .dataframe tbody tr th {\n",
       "        vertical-align: top;\n",
       "    }\n",
       "\n",
       "    .dataframe thead th {\n",
       "        text-align: right;\n",
       "    }\n",
       "</style>\n",
       "<table border=\"1\" class=\"dataframe\">\n",
       "  <thead>\n",
       "    <tr style=\"text-align: right;\">\n",
       "      <th></th>\n",
       "      <th>Clustering_Algorithms</th>\n",
       "      <th>Fowlkes</th>\n",
       "      <th>Silhouette</th>\n",
       "    </tr>\n",
       "  </thead>\n",
       "  <tbody>\n",
       "    <tr>\n",
       "      <th>5</th>\n",
       "      <td>singlelink</td>\n",
       "      <td>0.492479</td>\n",
       "      <td>0.687195</td>\n",
       "    </tr>\n",
       "    <tr>\n",
       "      <th>4</th>\n",
       "      <td>DBSCAN</td>\n",
       "      <td>0.488825</td>\n",
       "      <td>0.684086</td>\n",
       "    </tr>\n",
       "    <tr>\n",
       "      <th>7</th>\n",
       "      <td>averagelink</td>\n",
       "      <td>0.491603</td>\n",
       "      <td>0.495271</td>\n",
       "    </tr>\n",
       "    <tr>\n",
       "      <th>6</th>\n",
       "      <td>completelink</td>\n",
       "      <td>0.409600</td>\n",
       "      <td>0.437274</td>\n",
       "    </tr>\n",
       "    <tr>\n",
       "      <th>8</th>\n",
       "      <td>ward</td>\n",
       "      <td>0.312422</td>\n",
       "      <td>0.391462</td>\n",
       "    </tr>\n",
       "    <tr>\n",
       "      <th>0</th>\n",
       "      <td>random</td>\n",
       "      <td>0.308022</td>\n",
       "      <td>0.378779</td>\n",
       "    </tr>\n",
       "    <tr>\n",
       "      <th>1</th>\n",
       "      <td>k-means++</td>\n",
       "      <td>0.308022</td>\n",
       "      <td>0.378779</td>\n",
       "    </tr>\n",
       "    <tr>\n",
       "      <th>2</th>\n",
       "      <td>bisectingkmeans</td>\n",
       "      <td>0.315862</td>\n",
       "      <td>0.377617</td>\n",
       "    </tr>\n",
       "    <tr>\n",
       "      <th>3</th>\n",
       "      <td>Spectralclustering</td>\n",
       "      <td>0.352886</td>\n",
       "      <td>0.097402</td>\n",
       "    </tr>\n",
       "  </tbody>\n",
       "</table>\n",
       "</div>"
      ],
      "text/plain": [
       "  Clustering_Algorithms   Fowlkes  Silhouette\n",
       "5            singlelink  0.492479    0.687195\n",
       "4                DBSCAN  0.488825    0.684086\n",
       "7           averagelink  0.491603    0.495271\n",
       "6          completelink  0.409600    0.437274\n",
       "8                  ward  0.312422    0.391462\n",
       "0                random  0.308022    0.378779\n",
       "1             k-means++  0.308022    0.378779\n",
       "2       bisectingkmeans  0.315862    0.377617\n",
       "3    Spectralclustering  0.352886    0.097402"
      ]
     },
     "execution_count": 21,
     "metadata": {},
     "output_type": "execute_result"
    }
   ],
   "source": [
    "## best to worst by silhoutte scores\n",
    "scores_data.sort_values(by='Silhouette',ascending=False)"
   ]
  },
  {
   "cell_type": "code",
   "execution_count": null,
   "id": "05a630de-0a28-4b32-9883-71a0a215664f",
   "metadata": {},
   "outputs": [],
   "source": []
  }
 ],
 "metadata": {
  "kernelspec": {
   "display_name": "Python 3 (ipykernel)",
   "language": "python",
   "name": "python3"
  },
  "language_info": {
   "codemirror_mode": {
    "name": "ipython",
    "version": 3
   },
   "file_extension": ".py",
   "mimetype": "text/x-python",
   "name": "python",
   "nbconvert_exporter": "python",
   "pygments_lexer": "ipython3",
   "version": "3.11.0"
  }
 },
 "nbformat": 4,
 "nbformat_minor": 5
}

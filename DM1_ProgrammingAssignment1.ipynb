{
  "cells": [
    {
      "cell_type": "code",
      "execution_count": 2,
      "metadata": {
        "id": "l6kBdhbDW1nz"
      },
      "outputs": [],
      "source": [
        "import os\n",
        "import xml.etree.ElementTree as ET\n",
        "import numpy as np\n",
        "import matplotlib.pyplot as plt\n",
        "from skimage import io, color, exposure, filters\n",
        "from sklearn.metrics.pairwise import euclidean_distances, manhattan_distances, cosine_distances\n",
        "from skimage.feature import hog\n",
        "from sklearn.decomposition import PCA\n",
        "from skimage.transform import resize\n",
        "from skimage import img_as_ubyte\n"
      ]
    },
    {
      "cell_type": "code",
      "execution_count": 3,
      "metadata": {
        "id": "B-bVT0TLW92t"
      },
      "outputs": [],
      "source": [
        "# Code Snippet 1: Function to get bounding boxes from Annotations\n",
        "def get_bounding_boxes(annot):\n",
        "    xml = annot\n",
        "    tree = ET.parse(xml)\n",
        "    root = tree.getroot()\n",
        "    objects = root.findall('object')\n",
        "    bbox = []\n",
        "    for o in objects:\n",
        "        bndbox = o.find('bndbox')\n",
        "        xmin = int(bndbox.find('xmin').text)\n",
        "        ymin = int(bndbox.find('ymin').text)\n",
        "        xmax = int(bndbox.find('xmax').text)\n",
        "        ymax = int(bndbox.find('ymax').text)\n",
        "        bbox.append((xmin, ymin, xmax, ymax))\n",
        "    return bbox"
      ]
    },
    {
      "cell_type": "code",
      "execution_count": 4,
      "metadata": {
        "id": "ovW-JfgAXBEp"
      },
      "outputs": [],
      "source": [
        "# Code Snippet 2: Cropping and Resizing Images\n",
        "def process_images(dog_images, annotations):\n",
        "    for i in range(len(dog_images)):\n",
        "        bbox = get_bounding_boxes(annotations[i])\n",
        "        dog = io.imread(dog_images[i])\n",
        "        for j in range(len(bbox)):\n",
        "            im2 = dog[bbox[j][1]:bbox[j][3], bbox[j][0]:bbox[j][2]]\n",
        "\n",
        "            # Check if the cropped region is not empty before resizing\n",
        "            if im2.size > 0:\n",
        "                im2 = resize(im2, (128, 128), anti_aliasing=True)\n",
        "\n",
        "                # Convert image to 8-bit unsigned integer format\n",
        "                im2 = img_as_ubyte(im2)\n",
        "\n",
        "                new_path = dog_images[i].replace('rajani images', 'Cropped').replace('.jpg', f'-{j}.jpg')\n",
        "\n",
        "                # Create the directory if it doesn't exist\n",
        "                os.makedirs(os.path.dirname(new_path), exist_ok=True)\n",
        "\n",
        "                io.imsave(new_path, im2)\n",
        "\n"
      ]
    },
    {
      "cell_type": "code",
      "execution_count": 5,
      "metadata": {
        "id": "_YBflPy4LS_p"
      },
      "outputs": [],
      "source": [
        "# Task 2: Image Processing\n",
        "def image_processing(dog_images):\n",
        "    selected_images = []\n",
        "    for dog_class in dog_images.keys():\n",
        "        selected_images.append(dog_images[dog_class][0])  # Select only the first image\n",
        "\n",
        "    for img_path in selected_images:\n",
        "        img = io.imread(img_path)\n",
        "        gray_img = color.rgb2gray(img)\n",
        "        plt.subplot(2, 2, selected_images.index(img_path) + 1)\n",
        "        plt.imshow(gray_img, cmap='gray')\n",
        "        plt.title('Gray Image')\n",
        "\n",
        "    plt.show()\n",
        "\n",
        "    # Plot pixel intensity histograms\n",
        "    plt.figure(figsize=(10, 5))\n",
        "    for img_path in selected_images:\n",
        "        img = io.imread(img_path)\n",
        "        gray_img = color.rgb2gray(img)\n",
        "        hist, bins = exposure.histogram(gray_img, nbins=256)\n",
        "        plt.plot(bins, hist, label=img_path.split(os.path.sep)[-2])\n",
        "\n",
        "    plt.xlabel('Pixel Intensity')\n",
        "    plt.ylabel('Frequency')\n",
        "    plt.title('Pixel Intensity Histograms')\n",
        "    plt.legend()\n",
        "    plt.show()\n",
        "\n",
        "    # Edge detection\n",
        "    plt.figure(figsize=(10, 5))\n",
        "    for img_path in selected_images:\n",
        "        img = io.imread(img_path)\n",
        "        gray_img = color.rgb2gray(img)\n",
        "        edges = filters.sobel(gray_img)\n",
        "        plt.subplot(2, 2, selected_images.index(img_path) + 1)\n",
        "        plt.imshow(edges, cmap='gray')\n",
        "        plt.title('Edge Image')\n",
        "\n",
        "    plt.show()\n"
      ]
    },
    {
      "cell_type": "code",
      "execution_count": 6,
      "metadata": {
        "id": "JZI2f-pKLbIC"
      },
      "outputs": [],
      "source": [
        "# Edge histogram\n",
        "def edge_histogram(selected_image):\n",
        "    img = io.imread(selected_image)\n",
        "    gray_img = color.rgb2gray(img)\n",
        "    dx, dy = np.gradient(gray_img)\n",
        "    angle_sobel = np.mod(np.arctan2(dy, dx), np.pi)\n",
        "    hist, bins = exposure.histogram(angle_sobel, nbins=36)\n",
        "\n",
        "    plt.subplot(1, 2, 1)\n",
        "    plt.imshow(gray_img, cmap='gray')\n",
        "    plt.title('Image')\n",
        "\n",
        "    plt.subplot(1, 2, 2)\n",
        "    plt.bar(bins, hist, width=np.pi / 18)\n",
        "    plt.xlabel('Bins')\n",
        "    plt.ylabel('Pixel Count')\n",
        "    plt.title('Edge Histogram')\n",
        "\n",
        "    plt.show()"
      ]
    },
    {
      "cell_type": "code",
      "execution_count": 7,
      "metadata": {
        "id": "eWtdwe2_XO-D"
      },
      "outputs": [],
      "source": [
        "# Task 2d: Histogram Comparison\n",
        "def histogram_comparison(img_path1, img_path2, img_path3):\n",
        "    # Read images\n",
        "    img1 = io.imread(img_path1)\n",
        "    img2 = io.imread(img_path2)\n",
        "    img3 = io.imread(img_path3)\n",
        "\n",
        "    # Convert images to grayscale\n",
        "    gray_img1 = color.rgb2gray(img1)\n",
        "    gray_img2 = color.rgb2gray(img2)\n",
        "    gray_img3 = color.rgb2gray(img3)\n",
        "\n",
        "    # Compute histograms\n",
        "    hist1, bins1 = exposure.histogram(gray_img1, nbins=256)\n",
        "    hist2, bins2 = exposure.histogram(gray_img2, nbins=256)\n",
        "    hist3, bins3 = exposure.histogram(gray_img3, nbins=256)\n",
        "\n",
        "    # Plot histograms\n",
        "    plt.figure(figsize=(12, 6))\n",
        "    plt.plot(bins1, hist1, label='Image 1')\n",
        "    plt.plot(bins2, hist2, label='Image 2')\n",
        "    plt.plot(bins3, hist3, label='Image 3')\n",
        "    plt.xlabel('Pixel Intensity')\n",
        "    plt.ylabel('Frequency')\n",
        "    plt.title('Histogram Comparison')\n",
        "    plt.legend()\n",
        "    plt.show()\n"
      ]
    },
    {
      "cell_type": "code",
      "execution_count": 8,
      "metadata": {
        "id": "-i4nbFb1XSu6"
      },
      "outputs": [],
      "source": [
        "# Task 2e: Histogram of Oriented Gradient (HOG) feature descriptor\n",
        "def hog_descriptor(img_path):\n",
        "    # Read the image\n",
        "    img = io.imread(img_path)\n",
        "\n",
        "    # Convert the image to grayscale\n",
        "    gray_img = color.rgb2gray(img)\n",
        "\n",
        "    # Compute HOG descriptors\n",
        "    orientations = 9  # You can adjust this value based on your requirements\n",
        "    pixels_per_cell = (8, 8)\n",
        "    cells_per_block = (2, 2)\n",
        "\n",
        "    hog_features, hog_image = hog(gray_img, orientations=orientations,\n",
        "                                  pixels_per_cell=pixels_per_cell,\n",
        "                                  cells_per_block=cells_per_block,\n",
        "                                  block_norm='L2-Hys',\n",
        "                                  visualize=True, multichannel=False)\n",
        "\n",
        "    # Plot the image and HOG descriptors\n",
        "    fig, (ax1, ax2) = plt.subplots(1, 2, figsize=(12, 6), sharex=True, sharey=True)\n",
        "\n",
        "    ax1.imshow(gray_img, cmap=plt.cm.gray)\n",
        "    ax1.set_title('Input Image')\n",
        "\n",
        "    # Rescale histogram for better display\n",
        "    hog_image_rescaled = exposure.rescale_intensity(hog_image, in_range=(0, 10))\n",
        "\n",
        "    ax2.imshow(hog_image_rescaled, cmap=plt.cm.gray)\n",
        "    ax2.set_title('Histogram of Oriented Gradients')\n",
        "    plt.show()"
      ]
    },
    {
      "cell_type": "code",
      "execution_count": 10,
      "metadata": {
        "colab": {
          "base_uri": "https://localhost:8080/",
          "height": 564
        },
        "id": "KousTUHzXVey",
        "outputId": "81429fc4-81a4-48ea-e7fb-4c862186b961"
      },
      "outputs": [
        {
          "data": {
            "image/png": "[encoded data removed]",
            "text/plain": [
              "<Figure size 800x600 with 1 Axes>"
            ]
          },
          "metadata": {},
          "output_type": "display_data"
        }
      ],
      "source": [
        "# Task 2f: Dimensionality reduction (using Principal Component Analysis, PCA)\n",
        "def pca_dimensionality_reduction(hist_vectors):\n",
        "    if not hist_vectors:\n",
        "        print(\"Error: Input array is empty.\")\n",
        "        return\n",
        "\n",
        "    # Convert the list of histograms to a 2D array\n",
        "    X = np.vstack(hist_vectors)\n",
        "\n",
        "    # Perform PCA\n",
        "    pca = PCA(n_components=2)\n",
        "    reduced_data = pca.fit_transform(X)\n",
        "\n",
        "    # Plot the 2D points using different colors for data from the 2 classes\n",
        "    plt.figure(figsize=(8, 6))\n",
        "    for i, dog_class in enumerate(hist_vectors):\n",
        "        plt.scatter(reduced_data[i * len(dog_class):(i + 1) * len(dog_class), 0],\n",
        "                    reduced_data[i * len(dog_class):(i + 1) * len(dog_class), 1],\n",
        "                    label=f'Dog Class {i + 1}')\n",
        "\n",
        "    plt.xlabel('Principal Component 1')\n",
        "    plt.ylabel('Principal Component 2')\n",
        "    plt.title('PCA Dimensionality Reduction')\n",
        "    plt.legend()\n",
        "    plt.show()\n",
        "\n",
        "dog_images = {\n",
        "    'n02105412-kelpie': ['./Data/n02105412-kelpie/n02105412_1031.jpg','./Data/n02105412-kelpie/n02105412_1078.jpg'],  # List of image paths for class 'n02105412-kelpie'\n",
        "    'n02102480-Sussex_spaniel': ['./Data/n02102480-Sussex_spaniel/n02102480_101.jpg','./Data/n02102480-Sussex_spaniel/n02102480_105.jpg'],  # List of image paths for class 'n02102480-Sussex_spaniel'\n",
        "    'n02093991-Irish_terrier': ['./Data/n02093991-Irish_terrier/n02093991_1026.jpg','./Data/n02093991-Irish_terrier/n02093991_1038.jpg'],\n",
        "    'n02098413-Lhasa': ['./Data/n02098413-Lhasa/n02098413_10144.jpg','./Data/n02098413-Lhasa/n02098413_10285.jpg'],\n",
        "    # Add paths for other classes\n",
        "}\n",
        "\n",
        "# Generate histograms\n",
        "hist_vectors = []\n",
        "for dog_class, img_paths in dog_images.items():\n",
        "    for img_path in img_paths:\n",
        "        img = io.imread(img_path)\n",
        "        gray_img = color.rgb2gray(img)\n",
        "        hist, _ = exposure.histogram(gray_img, nbins=36)\n",
        "        hist_vectors.append(hist)\n",
        "\n",
        "# Call the pca_dimensionality_reduction function with the generated histograms\n",
        "pca_dimensionality_reduction(hist_vectors)"
      ]
    },
    {
      "cell_type": "code",
      "execution_count": 11,
      "metadata": {
        "id": "kwYZweybUXoU"
      },
      "outputs": [],
      "source": [
        "# Main execution\n",
        "dog_images_folder = './Data/'\n",
        "annotations_folder = './Annotations/'"
      ]
    },
    {
      "cell_type": "code",
      "execution_count": 12,
      "metadata": {
        "id": "6YzmvCpRVNCK"
      },
      "outputs": [],
      "source": [
        "dog_images = {}\n",
        "annotations = {}"
      ]
    },
    {
      "cell_type": "code",
      "execution_count": 13,
      "metadata": {
        "id": "db8JXwF0VfjZ"
      },
      "outputs": [],
      "source": [
        "# Load images and annotations\n",
        "for folder_name in os.listdir(dog_images_folder):\n",
        "    folder_path = os.path.join(dog_images_folder, folder_name)\n",
        "    images = [os.path.join(folder_path, img) for img in os.listdir(folder_path)]\n",
        "    dog_images[folder_name] = images\n",
        "\n",
        "for folder_name in os.listdir(annotations_folder):\n",
        "    folder_path = os.path.join(annotations_folder, folder_name)\n",
        "    annotations[folder_name] = [os.path.join(folder_path, annot) for annot in os.listdir(folder_path)]"
      ]
    },
    {
      "cell_type": "code",
      "execution_count": 14,
      "metadata": {
        "id": "BJXk9MfSVkBC"
      },
      "outputs": [
        {
          "ename": "IndexError",
          "evalue": "list index out of range",
          "output_type": "error",
          "traceback": [
            "\u001b[1;31m---------------------------------------------------------------------------\u001b[0m",
            "\u001b[1;31mIndexError\u001b[0m                                Traceback (most recent call last)",
            "Cell \u001b[1;32mIn[14], line 2\u001b[0m\n\u001b[0;32m      1\u001b[0m \u001b[38;5;66;03m# Task 1: Cropping and Resize Images\u001b[39;00m\n\u001b[1;32m----> 2\u001b[0m \u001b[43mprocess_images\u001b[49m\u001b[43m(\u001b[49m\u001b[43mdog_images\u001b[49m\u001b[43m[\u001b[49m\u001b[38;5;124;43m'\u001b[39;49m\u001b[38;5;124;43mn02105412-kelpie\u001b[39;49m\u001b[38;5;124;43m'\u001b[39;49m\u001b[43m]\u001b[49m\u001b[43m,\u001b[49m\u001b[43m \u001b[49m\u001b[43mannotations\u001b[49m\u001b[43m[\u001b[49m\u001b[38;5;124;43m'\u001b[39;49m\u001b[38;5;124;43mn02105412-kelpie\u001b[39;49m\u001b[38;5;124;43m'\u001b[39;49m\u001b[43m]\u001b[49m\u001b[43m)\u001b[49m\n",
            "Cell \u001b[1;32mIn[4], line 4\u001b[0m, in \u001b[0;36mprocess_images\u001b[1;34m(dog_images, annotations)\u001b[0m\n\u001b[0;32m      2\u001b[0m \u001b[38;5;28;01mdef\u001b[39;00m \u001b[38;5;21mprocess_images\u001b[39m(dog_images, annotations):\n\u001b[0;32m      3\u001b[0m     \u001b[38;5;28;01mfor\u001b[39;00m i \u001b[38;5;129;01min\u001b[39;00m \u001b[38;5;28mrange\u001b[39m(\u001b[38;5;28mlen\u001b[39m(dog_images)):\n\u001b[1;32m----> 4\u001b[0m         bbox \u001b[38;5;241m=\u001b[39m get_bounding_boxes(\u001b[43mannotations\u001b[49m\u001b[43m[\u001b[49m\u001b[43mi\u001b[49m\u001b[43m]\u001b[49m)\n\u001b[0;32m      5\u001b[0m         dog \u001b[38;5;241m=\u001b[39m io\u001b[38;5;241m.\u001b[39mimread(dog_images[i])\n\u001b[0;32m      6\u001b[0m         \u001b[38;5;28;01mfor\u001b[39;00m j \u001b[38;5;129;01min\u001b[39;00m \u001b[38;5;28mrange\u001b[39m(\u001b[38;5;28mlen\u001b[39m(bbox)):\n",
            "\u001b[1;31mIndexError\u001b[0m: list index out of range"
          ]
        }
      ],
      "source": [
        "# Task 1: Cropping and Resize Images\n",
        "process_images(dog_images['n02105412-kelpie'], annotations['n02105412-kelpie'])"
      ]
    },
    {
      "cell_type": "code",
      "execution_count": null,
      "metadata": {
        "colab": {
          "base_uri": "https://localhost:8080/",
          "height": 1000
        },
        "id": "6mGKSFsBagga",
        "outputId": "76730cfb-64b8-4141-b198-5c628c31e450"
      },
      "outputs": [],
      "source": [
        "# Task 2: Image Processing\n",
        "image_processing(dog_images)"
      ]
    },
    {
      "cell_type": "code",
      "execution_count": null,
      "metadata": {
        "colab": {
          "base_uri": "https://localhost:8080/",
          "height": 472
        },
        "id": "gtGgJ0jobo2M",
        "outputId": "bc8c9f1f-e313-4a00-ef2e-4dd66428e9d2"
      },
      "outputs": [],
      "source": [
        "# Task 2c: Edge histogram\n",
        "selected_image = dog_images['n02105412-kelpie'][0]  # Select one image for edge histogram\n",
        "edge_histogram(selected_image)"
      ]
    },
    {
      "cell_type": "code",
      "execution_count": null,
      "metadata": {
        "colab": {
          "base_uri": "https://localhost:8080/",
          "height": 564
        },
        "id": "kYxrffazbupt",
        "outputId": "c8fb40bf-d9a3-4a79-d904-14e8f4d926a1"
      },
      "outputs": [],
      "source": [
        "# Task 2d: Histogram Comparison\n",
        "histogram_comparison(dog_images['n02105412-kelpie'][0], dog_images['n02105412-kelpie'][1], dog_images['n02098413-Lhasa'][0])\n"
      ]
    },
    {
      "cell_type": "code",
      "execution_count": null,
      "metadata": {
        "colab": {
          "base_uri": "https://localhost:8080/",
          "height": 455
        },
        "id": "LAOYkEB2bwkq",
        "outputId": "4b095a76-225c-4046-a22e-a8de3e248da5"
      },
      "outputs": [],
      "source": [
        "# Task 2e: Histogram of Oriented Gradient (HOG) feature descriptor\n",
        "hog_descriptor(dog_images['n02105412-kelpie'][0])"
      ]
    },
    {
      "cell_type": "code",
      "execution_count": null,
      "metadata": {
        "colab": {
          "base_uri": "https://localhost:8080/"
        },
        "id": "h92oEGqSb1Th",
        "outputId": "bb83e0ce-885f-4905-9d13-203208d71138"
      },
      "outputs": [],
      "source": [
        "# Print the keys in dog_images dictionary\n",
        "print(\"Keys in dog_images:\", dog_images.keys())"
      ]
    },
    {
      "cell_type": "code",
      "execution_count": null,
      "metadata": {
        "id": "tvVfVuyoovex"
      },
      "outputs": [],
      "source": [
        "# Task 2f: Dimensionality reduction (using Principal Component Analysis, PCA)\n",
        "hist_vectors = []\n",
        "\n",
        "# Replace '...' with the actual paths to images for each class\n",
        "for img_path in dog_images['n02105412-kelpie'][:2] + dog_images['n02093991-Irish_terrier'][:2]:\n",
        "    img = io.imread(img_path)\n",
        "    gray_img = color.rgb2gray(img)\n",
        "    hist, _ = exposure.histogram(gray_img, nbins=36)\n",
        "    hist_vectors.append(hist)"
      ]
    },
    {
      "cell_type": "code",
      "execution_count": null,
      "metadata": {
        "colab": {
          "base_uri": "https://localhost:8080/",
          "height": 564
        },
        "id": "_Q4mVqc_b6fm",
        "outputId": "f9bd0f19-adbd-4a11-ae2c-52e005148cd1"
      },
      "outputs": [],
      "source": [
        "pca_dimensionality_reduction(hist_vectors)"
      ]
    }
  ],
  "metadata": {
    "colab": {
      "provenance": []
    },
    "kernelspec": {
      "display_name": "Python 3",
      "name": "python3"
    },
    "language_info": {
      "codemirror_mode": {
        "name": "ipython",
        "version": 3
      },
      "file_extension": ".py",
      "mimetype": "text/x-python",
      "name": "python",
      "nbconvert_exporter": "python",
      "pygments_lexer": "ipython3",
      "version": "3.10.11"
    }
  },
  "nbformat": 4,
  "nbformat_minor": 0
}
